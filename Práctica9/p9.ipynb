{
 "cells": [
  {
   "attachments": {},
   "cell_type": "markdown",
   "metadata": {},
   "source": [
    "# Práctica 9 - EDA"
   ]
  },
  {
   "attachments": {},
   "cell_type": "markdown",
   "metadata": {},
   "source": [
    "### **Variables y Tipos**\n",
    "\n",
    "*Ejemplos*"
   ]
  },
  {
   "cell_type": "code",
   "execution_count": 19,
   "metadata": {},
   "outputs": [
    {
     "name": "stdout",
     "output_type": "stream",
     "text": [
      "10\n",
      "Hola Mundo\n"
     ]
    }
   ],
   "source": [
    "#Inicializando variables \n",
    "x = 10      #variable de tipo entero\n",
    "print(x)    #Funcion para imprimir los valores de las variables\n",
    "\n",
    "cadena = \"Hola Mundo\"\n",
    "print(cadena)   #variable de tipo cadena"
   ]
  },
  {
   "cell_type": "code",
   "execution_count": 20,
   "metadata": {},
   "outputs": [
    {
     "name": "stdout",
     "output_type": "stream",
     "text": [
      "10 10 10\n"
     ]
    }
   ],
   "source": [
    "#Asigna un mismo valor a tres variables\n",
    "x = y = z = 10\n",
    "print (x, y, z)"
   ]
  },
  {
   "cell_type": "code",
   "execution_count": 21,
   "metadata": {},
   "outputs": [
    {
     "data": {
      "text/plain": [
       "int"
      ]
     },
     "execution_count": 21,
     "metadata": {},
     "output_type": "execute_result"
    }
   ],
   "source": [
    "#La función type() permite conocer el tipo de una variable\n",
    "type (x)"
   ]
  },
  {
   "cell_type": "code",
   "execution_count": 22,
   "metadata": {},
   "outputs": [
    {
     "data": {
      "text/plain": [
       "str"
      ]
     },
     "execution_count": 22,
     "metadata": {},
     "output_type": "execute_result"
    }
   ],
   "source": [
    "type (cadena)"
   ]
  },
  {
   "cell_type": "code",
   "execution_count": 23,
   "metadata": {},
   "outputs": [],
   "source": [
    "#se pueden cambiar los valores de las variables y el tipo se cambia automáticamente \n",
    "x=\"Hola Mundo\"\n",
    "cadena = 10"
   ]
  },
  {
   "cell_type": "code",
   "execution_count": 24,
   "metadata": {},
   "outputs": [
    {
     "data": {
      "text/plain": [
       "str"
      ]
     },
     "execution_count": 24,
     "metadata": {},
     "output_type": "execute_result"
    }
   ],
   "source": [
    "type(x)"
   ]
  },
  {
   "cell_type": "code",
   "execution_count": 25,
   "metadata": {},
   "outputs": [
    {
     "data": {
      "text/plain": [
       "int"
      ]
     },
     "execution_count": 25,
     "metadata": {},
     "output_type": "execute_result"
    }
   ],
   "source": [
    "type(cadena)"
   ]
  },
  {
   "cell_type": "code",
   "execution_count": 26,
   "metadata": {},
   "outputs": [],
   "source": [
    "SEGUNDOS_POR_DIA = 60 * 60 * 24\n",
    "PI = 3.14"
   ]
  },
  {
   "attachments": {},
   "cell_type": "markdown",
   "metadata": {},
   "source": [
    "### **Cadenas**\n",
    "\n",
    "*Ejemplos*"
   ]
  },
  {
   "cell_type": "code",
   "execution_count": 27,
   "metadata": {},
   "outputs": [
    {
     "name": "stdout",
     "output_type": "stream",
     "text": [
      "Hola \n",
      "Mundo\n",
      "Hola Mundo\n",
      "Hola Mundo 3\n"
     ]
    }
   ],
   "source": [
    "#Inicializando codenas\n",
    "cadena1 = 'Hola '\n",
    "cadena2 = \"Mundo\"\n",
    "print(cadena1)\n",
    "print (cadena2)\n",
    "concat_cadenas = cadena1 + cadena2 #Concatenación de cadenas\n",
    "print (concat_cadenas)\n",
    "#Para concatenar un número y una cadena se debe usar la función str()\n",
    "num_cadena = concat_cadenas + ' ' + str(3)\n",
    "print(num_cadena)"
   ]
  },
  {
   "cell_type": "code",
   "execution_count": 28,
   "metadata": {},
   "outputs": [
    {
     "name": "stdout",
     "output_type": "stream",
     "text": [
      "Hola  Mundo 3\n"
     ]
    }
   ],
   "source": [
    "num_cadena = \"{} {} {}\" .format(cadena1, cadena2, 3)\n",
    "print(num_cadena)"
   ]
  },
  {
   "cell_type": "code",
   "execution_count": 29,
   "metadata": {},
   "outputs": [
    {
     "name": "stdout",
     "output_type": "stream",
     "text": [
      "Cambiando el orden: Mundo 3 Hola  #\n"
     ]
    }
   ],
   "source": [
    "num_cadena = \"Cambiando el orden: {1} {2} {0} #\" .format(cadena1, cadena2, 3)\n",
    "print(num_cadena)"
   ]
  },
  {
   "attachments": {},
   "cell_type": "markdown",
   "metadata": {},
   "source": [
    "### **Operadores**\n",
    "\n",
    "*Ejemplos*\n",
    "\n",
    "Aritméticos: +, -, *, /"
   ]
  },
  {
   "cell_type": "code",
   "execution_count": 30,
   "metadata": {},
   "outputs": [
    {
     "name": "stdout",
     "output_type": "stream",
     "text": [
      "6\n",
      "18\n",
      "6\n",
      "2.0\n",
      "0\n",
      "7.1\n",
      "4\n"
     ]
    }
   ],
   "source": [
    "print(1 + 5)\n",
    "print(6 * 3)\n",
    "print(10 - 4)\n",
    "print(100 / 50)\n",
    "print(10 % 2)\n",
    "print( ((20 * 3) + (10 + 1))/ 10)\n",
    "print(2**2)"
   ]
  },
  {
   "cell_type": "code",
   "execution_count": 31,
   "metadata": {},
   "outputs": [
    {
     "name": "stdout",
     "output_type": "stream",
     "text": [
      "False\n",
      "True\n",
      "True\n",
      "False\n",
      "True\n"
     ]
    }
   ],
   "source": [
    "print(7 < 5)\n",
    "print(7 > 5)\n",
    "print ((11 * 3)+2 == 36 - 1)\n",
    "print ((11 * 3)+2 >= 36)\n",
    "print(\"curso\" != \"CuRsO\")"
   ]
  },
  {
   "attachments": {},
   "cell_type": "markdown",
   "metadata": {},
   "source": [
    "### **Listas**\n",
    "\n",
    "*Ejemplos*"
   ]
  },
  {
   "cell_type": "code",
   "execution_count": 32,
   "metadata": {},
   "outputs": [
    {
     "name": "stdout",
     "output_type": "stream",
     "text": [
      "[31, 28, 31, 30, 31, 30, 31, 31, 30, 31, 30, 31]\n",
      "31\n",
      "31\n",
      "31\n"
     ]
    }
   ],
   "source": [
    "#Declaracion de una lista simple\n",
    "lista_diasDelMes = [31,28,31,30,31,30,31,31,30,31,30,31]\n",
    "\n",
    "print(lista_diasDelMes)\n",
    "print(lista_diasDelMes[0])\n",
    "print(lista_diasDelMes[6])\n",
    "print(lista_diasDelMes[11])"
   ]
  },
  {
   "cell_type": "code",
   "execution_count": 33,
   "metadata": {},
   "outputs": [
    {
     "name": "stdout",
     "output_type": "stream",
     "text": [
      "[['cero', 0], ['uno', 1, 'UNO'], ['dos', 2], ['tres', 3], ['cuatro', 4], ['X', 5]]\n",
      "['cero', 0]\n",
      "['uno', 1, 'UNO']\n",
      "dos\n",
      "2\n",
      "uno\n",
      "1\n",
      "UNO\n",
      "['cinco', 5]\n"
     ]
    }
   ],
   "source": [
    "#Declaracion de listas anidadas\n",
    "\n",
    "lista_numeros=[['cero', 0],['uno',1,'UNO'],['dos',2],['tres',3],['cuatro',4],['X',5]]\n",
    "print(lista_numeros)\n",
    "\n",
    "print(lista_numeros[0])\n",
    "print(lista_numeros[1])\n",
    "\n",
    "print(lista_numeros[2][0])\n",
    "print(lista_numeros[2][1])\n",
    "\n",
    "print(lista_numeros[1][0])\n",
    "print(lista_numeros[1][1])\n",
    "print(lista_numeros[1][2])\n",
    "\n",
    "lista_numeros[5][0] = \"cinco\"\n",
    "print(lista_numeros[5])"
   ]
  },
  {
   "attachments": {},
   "cell_type": "markdown",
   "metadata": {},
   "source": [
    "### **Tuplas**\n",
    "\n",
    "*Ejemplos*"
   ]
  },
  {
   "cell_type": "code",
   "execution_count": 34,
   "metadata": {},
   "outputs": [
    {
     "name": "stdout",
     "output_type": "stream",
     "text": [
      "(31, 28, 31, 30, 31, 30, 31, 31, 30, 31, 30, 31)\n",
      "31\n",
      "30\n",
      "28\n"
     ]
    }
   ],
   "source": [
    "#Declaracion de una tupla\n",
    "tupla_diasDelMes=(31,28,31,30,31,30,31,31,30,31,30,31)\n",
    "\n",
    "print(tupla_diasDelMes)\n",
    "print(tupla_diasDelMes[0])\n",
    "print(tupla_diasDelMes[3])\n",
    "print(tupla_diasDelMes[1])"
   ]
  },
  {
   "cell_type": "code",
   "execution_count": 35,
   "metadata": {},
   "outputs": [
    {
     "name": "stdout",
     "output_type": "stream",
     "text": [
      "(('cero', 0), ('uno', 1, 'UNO'), ('dos', 2), ('tres', 3), ('cuatro', 4), ('X', 5))\n",
      "('cero', 0)\n",
      "('uno', 1, 'UNO')\n",
      "dos\n",
      "2\n",
      "uno\n",
      "1\n",
      "UNO\n"
     ]
    }
   ],
   "source": [
    "#Declaracion de tuplas anidadas\n",
    "tupla_numeros=(('cero', 0),('uno',1,'UNO'),('dos',2),('tres', 3), ('cuatro', 4), ('X',5))\n",
    "print(tupla_numeros)\n",
    "\n",
    "print(tupla_numeros[0])\n",
    "print(tupla_numeros[1])\n",
    "\n",
    "print(tupla_numeros[2][0])\n",
    "print(tupla_numeros[2][1])\n",
    "\n",
    "print(tupla_numeros[1][0])\n",
    "print(tupla_numeros[1][1])\n",
    "print(tupla_numeros[1][2])"
   ]
  },
  {
   "cell_type": "code",
   "execution_count": 36,
   "metadata": {},
   "outputs": [
    {
     "name": "stdout",
     "output_type": "stream",
     "text": [
      "valor actual 31\n",
      "valor cambiado 50\n"
     ]
    },
    {
     "ename": "TypeError",
     "evalue": "'tuple' object does not support item assignment",
     "output_type": "error",
     "traceback": [
      "\u001b[0;31m---------------------------------------------------------------------------\u001b[0m",
      "\u001b[0;31mTypeError\u001b[0m                                 Traceback (most recent call last)",
      "Cell \u001b[0;32mIn[36], line 5\u001b[0m\n\u001b[1;32m      3\u001b[0m lista_diasDelMes[\u001b[39m0\u001b[39m] \u001b[39m=\u001b[39m \u001b[39m50\u001b[39m\n\u001b[1;32m      4\u001b[0m \u001b[39mprint\u001b[39m(\u001b[39m\"\u001b[39m\u001b[39mvalor cambiado \u001b[39m\u001b[39m{}\u001b[39;00m\u001b[39m\"\u001b[39m\u001b[39m.\u001b[39mformat(lista_diasDelMes[\u001b[39m0\u001b[39m]))\n\u001b[0;32m----> 5\u001b[0m tupla_diasDelMes[\u001b[39m0\u001b[39;49m] \u001b[39m=\u001b[39m \u001b[39m50\u001b[39m\n",
      "\u001b[0;31mTypeError\u001b[0m: 'tuple' object does not support item assignment"
     ]
    }
   ],
   "source": [
    "#Probando la mutabilidad de las listas vs la no mutabilidad de las tuplas\n",
    "print(\"valor actual {}\".format(lista_diasDelMes[0]))\n",
    "lista_diasDelMes[0] = 50\n",
    "print(\"valor cambiado {}\".format(lista_diasDelMes[0]))\n",
    "tupla_diasDelMes[0] = 50"
   ]
  },
  {
   "attachments": {},
   "cell_type": "markdown",
   "metadata": {},
   "source": [
    "### **Tupla con nombre**\n",
    "\n",
    "*Ejemplos*"
   ]
  },
  {
   "cell_type": "code",
   "execution_count": null,
   "metadata": {},
   "outputs": [
    {
     "name": "stdout",
     "output_type": "stream",
     "text": [
      "planeta(nombre='Mercurio', numero=1)\n",
      "Mercurio 1\n",
      "Venus 2\n",
      "Campos de la tupla: ('nombre', 'numero')\n"
     ]
    }
   ],
   "source": [
    "#Se debe importaer la libreria para hacer uso de namedtuple\n",
    "from collections import namedtuple\n",
    "#Se crea la tupla con nombre\n",
    "#El primer argumento es el nombre de la tupla, mientras que el segundo argumento son los campos \n",
    "#p es la rererencia a la tupla\n",
    "planeta = namedtuple('planeta', ['nombre', 'numero'])\n",
    "\n",
    "#Se crea el planeta 1 y se agregan a la tupla los valores correspondientes a los campos\n",
    "planeta1 = planeta ('Mercurio', 1)\n",
    "print(planeta1)\n",
    "\n",
    "planeta2 = planeta('Venus', 2)\n",
    "\n",
    "print (planeta1.nombre, planeta1.numero)\n",
    "#Se obtienen los valores por el orden de los campos\n",
    "print(planeta2[0], planeta2[1])\n",
    "\n",
    "print('Campos de la tupla: {}'.format(planeta1._fields))"
   ]
  },
  {
   "attachments": {},
   "cell_type": "markdown",
   "metadata": {},
   "source": [
    "### **Diccionarios**\n",
    "\n",
    "*Ejemplos*"
   ]
  },
  {
   "cell_type": "code",
   "execution_count": 37,
   "metadata": {},
   "outputs": [
    {
     "name": "stdout",
     "output_type": "stream",
     "text": [
      "{'hidrogeno': 1, 'helio': 2, 'carbon': 6}\n",
      "1\n"
     ]
    }
   ],
   "source": [
    "#Creando un diccionario\n",
    "elementos = { 'hidrogeno': 1, 'helio': 2, 'carbon': 6 }\n",
    "\n",
    "#El momento de la impresion, pueden aparecer en diferente orden del introducido\n",
    "print(elementos)\n",
    "\n",
    "print(elementos['hidrogeno'])"
   ]
  },
  {
   "cell_type": "code",
   "execution_count": 38,
   "metadata": {},
   "outputs": [
    {
     "name": "stdout",
     "output_type": "stream",
     "text": [
      "{'hidrogeno': 1, 'helio': 2, 'carbon': 6, 'litio': 3, 'nitrogeno': 8}\n"
     ]
    }
   ],
   "source": [
    "#Se pueden agregar elementos al diccionario\n",
    "elementos['litio'] = 3\n",
    "elementos['nitrogeno'] = 8\n",
    "\n",
    "print(elementos) #imprimiendo todos los elementos"
   ]
  },
  {
   "cell_type": "code",
   "execution_count": 39,
   "metadata": {},
   "outputs": [
    {
     "name": "stdout",
     "output_type": "stream",
     "text": [
      "{'H': {'name': 'Hydrogen', 'number': 1, 'weight': 1.00794}, 'He': {'name': 'Helium', 'number': 2, 'weight': 4.002602}}\n"
     ]
    }
   ],
   "source": [
    "#Creando un nuevo diccionario\n",
    "elementos2 = {}\n",
    "elementos2['H'] = {'name': 'Hydrogen', 'number': 1, 'weight': 1.00794}\n",
    "elementos2['He'] = {'name': 'Helium', 'number': 2, 'weight': 4.002602}\n",
    "\n",
    "print(elementos2)"
   ]
  },
  {
   "cell_type": "code",
   "execution_count": 40,
   "metadata": {},
   "outputs": [
    {
     "name": "stdout",
     "output_type": "stream",
     "text": [
      "{'name': 'Hydrogen', 'number': 1, 'weight': 1.00794}\n",
      "Hydrogen\n",
      "1\n",
      "4.3\n"
     ]
    }
   ],
   "source": [
    "#Imprimiendo lo datos de un elemento del diccionario\n",
    "print(elementos2['H'])\n",
    "print(elementos2['H']['name'])\n",
    "print(elementos2['H']['number'])\n",
    "elementos2['H']['weight'] = 4.30 #cambiando el valor de un elemento\n",
    "print(elementos2['H']['weight'])"
   ]
  },
  {
   "cell_type": "code",
   "execution_count": 41,
   "metadata": {},
   "outputs": [
    {
     "name": "stdout",
     "output_type": "stream",
     "text": [
      "{'name': 'Hydrogen', 'number': 1, 'weight': 4.3, 'gas noble': True}\n"
     ]
    }
   ],
   "source": [
    "#Agregando elementos a una llave\n",
    "elementos2['H'].update({'gas noble':True})\n",
    "print(elementos2['H'])"
   ]
  },
  {
   "cell_type": "code",
   "execution_count": 42,
   "metadata": {},
   "outputs": [
    {
     "name": "stdout",
     "output_type": "stream",
     "text": [
      "dict_items([('H', {'name': 'Hydrogen', 'number': 1, 'weight': 4.3, 'gas noble': True}), ('He', {'name': 'Helium', 'number': 2, 'weight': 4.002602})])\n",
      "dict_keys(['H', 'He'])\n"
     ]
    }
   ],
   "source": [
    "#Muestra todos los elementos del diccionario\n",
    "print(elementos2.items())\n",
    "\n",
    "#Muestra todas las llaves del diccionario\n",
    "print(elementos2.keys())"
   ]
  },
  {
   "attachments": {},
   "cell_type": "markdown",
   "metadata": {},
   "source": [
    "### **Funciones**\n",
    "\n",
    "*Ejemplos*"
   ]
  },
  {
   "cell_type": "code",
   "execution_count": 44,
   "metadata": {},
   "outputs": [
    {
     "name": "stdout",
     "output_type": "stream",
     "text": [
      "hola JJ\n"
     ]
    }
   ],
   "source": [
    "#Las funciones pueden recibir n numero de parametros, no se necesita indicar el tipo\n",
    "def imprime_nombre(nombre):\n",
    "    print('hola '+ nombre) #Las cadenas se puden concatenar con el +\n",
    "\n",
    "imprime_nombre(\"JJ\")"
   ]
  },
  {
   "cell_type": "code",
   "execution_count": 46,
   "metadata": {},
   "outputs": [
    {
     "name": "stdout",
     "output_type": "stream",
     "text": [
      "El cuadrado de 5 es 25\n"
     ]
    }
   ],
   "source": [
    "#Definiendo una funcion que regresa el cuadrado de un numero\n",
    "def cuadrado(x):\n",
    "    return x**2\n",
    "\n",
    "x = 5\n",
    "print(\"El cuadrado de {} es {}\".format(x, cuadrado(x)))"
   ]
  },
  {
   "cell_type": "code",
   "execution_count": 48,
   "metadata": {},
   "outputs": [
    {
     "name": "stdout",
     "output_type": "stream",
     "text": [
      "4 8 16\n"
     ]
    }
   ],
   "source": [
    "#Definiendo una funcion que regrese mas de un valor\n",
    "def varios(x):\n",
    "    return x**2, x**3, x**4\n",
    "\n",
    "#Los valores que regresa la funcion pueden ser guardados en varables separadas por:\n",
    "val1, val2, val3 = varios(2)\n",
    "print(\"{} {} {}\".format(val1, val2, val3) )"
   ]
  },
  {
   "cell_type": "code",
   "execution_count": 49,
   "metadata": {},
   "outputs": [
    {
     "data": {
      "text/plain": [
       "9"
      ]
     },
     "execution_count": 49,
     "metadata": {},
     "output_type": "execute_result"
    }
   ],
   "source": [
    "#Funcion con un parametro con un valor por defecto\n",
    "def cuadrado_default(x=3):\n",
    "    return x**2\n",
    "\n",
    "cuadrado_default()"
   ]
  },
  {
   "cell_type": "code",
   "execution_count": 50,
   "metadata": {},
   "outputs": [
    {
     "name": "stdout",
     "output_type": "stream",
     "text": [
      "4 16\n"
     ]
    }
   ],
   "source": [
    "#La funcion idiom regresa tres valores pero solo nos interesa el primero y el tercero\n",
    "val4, _, val5 = varios(2)\n",
    "print(\"{} {}\".format(val4, val5))"
   ]
  },
  {
   "attachments": {},
   "cell_type": "markdown",
   "metadata": {},
   "source": [
    "### **Variables globales**\n",
    "\n",
    "*Ejemplos*"
   ]
  },
  {
   "cell_type": "code",
   "execution_count": 51,
   "metadata": {},
   "outputs": [
    {
     "name": "stdout",
     "output_type": "stream",
     "text": [
      "Global\n",
      "Global\n"
     ]
    }
   ],
   "source": [
    "#Se crea una variable en el espacio global de nombres\n",
    "vg = 'Global'\n",
    "\n",
    "def funcion_v1():\n",
    "    print(vg)\n",
    "\n",
    "funcion_v1()\n",
    "print(vg)"
   ]
  },
  {
   "cell_type": "code",
   "execution_count": 52,
   "metadata": {},
   "outputs": [
    {
     "name": "stdout",
     "output_type": "stream",
     "text": [
      "Local\n",
      "Global\n"
     ]
    }
   ],
   "source": [
    "#Se crea una variable local que tiene el mismo nnombre que la variable global\n",
    "def funcion_v2():\n",
    "    vg = \"Local\"\n",
    "    print(vg)\n",
    "\n",
    "funcion_v2()\n",
    "\n",
    "print(vg)"
   ]
  },
  {
   "cell_type": "code",
   "execution_count": 53,
   "metadata": {},
   "outputs": [
    {
     "ename": "UnboundLocalError",
     "evalue": "local variable 'vg' referenced before assignment",
     "output_type": "error",
     "traceback": [
      "\u001b[0;31m---------------------------------------------------------------------------\u001b[0m",
      "\u001b[0;31mUnboundLocalError\u001b[0m                         Traceback (most recent call last)",
      "Cell \u001b[0;32mIn[53], line 6\u001b[0m\n\u001b[1;32m      3\u001b[0m     vg \u001b[39m=\u001b[39m \u001b[39m\"\u001b[39m\u001b[39mLocal\u001b[39m\u001b[39m\"\u001b[39m\n\u001b[1;32m      4\u001b[0m     \u001b[39mprint\u001b[39m(vg)\n\u001b[0;32m----> 6\u001b[0m funcion_v3()\n",
      "Cell \u001b[0;32mIn[53], line 2\u001b[0m, in \u001b[0;36mfuncion_v3\u001b[0;34m()\u001b[0m\n\u001b[1;32m      1\u001b[0m \u001b[39mdef\u001b[39;00m \u001b[39mfuncion_v3\u001b[39m():\n\u001b[0;32m----> 2\u001b[0m     \u001b[39mprint\u001b[39m(vg)\n\u001b[1;32m      3\u001b[0m     vg \u001b[39m=\u001b[39m \u001b[39m\"\u001b[39m\u001b[39mLocal\u001b[39m\u001b[39m\"\u001b[39m\n\u001b[1;32m      4\u001b[0m     \u001b[39mprint\u001b[39m(vg)\n",
      "\u001b[0;31mUnboundLocalError\u001b[0m: local variable 'vg' referenced before assignment"
     ]
    }
   ],
   "source": [
    "def funcion_v3():\n",
    "    print(vg)\n",
    "    vg = \"Local\"\n",
    "    print(vg)\n",
    "\n",
    "funcion_v3()"
   ]
  },
  {
   "cell_type": "code",
   "execution_count": 54,
   "metadata": {},
   "outputs": [
    {
     "name": "stdout",
     "output_type": "stream",
     "text": [
      "Global\n",
      "Local\n",
      "Local\n"
     ]
    }
   ],
   "source": [
    "def funcion_v4():\n",
    "    global vg\n",
    "    print(vg)\n",
    "    vg = \"Local\"\n",
    "    print(vg)\n",
    "\n",
    "funcion_v4()\n",
    "print(vg)"
   ]
  },
  {
   "attachments": {},
   "cell_type": "markdown",
   "metadata": {},
   "source": [
    "### **Estructuras de control selectivas**\n",
    "\n",
    "*Ejemplos*\n",
    "\n",
    "if"
   ]
  },
  {
   "cell_type": "code",
   "execution_count": 58,
   "metadata": {},
   "outputs": [
    {
     "name": "stdout",
     "output_type": "stream",
     "text": [
      "7 es mayor que 5\n"
     ]
    }
   ],
   "source": [
    "def obtenerMayor(param1, param2):\n",
    "    if param1 < param2:\n",
    "        print(\"{} es mayor que {}\".format(param2, param1))\n",
    "\n",
    "obtenerMayor(5, 7)\n",
    "\n",
    "obtenerMayor(7, 5) #No imprime nada"
   ]
  },
  {
   "cell_type": "code",
   "execution_count": 59,
   "metadata": {},
   "outputs": [
    {
     "name": "stdout",
     "output_type": "stream",
     "text": [
      "True\n"
     ]
    }
   ],
   "source": [
    "x = y = z = 3\n",
    "if x == y == z:\n",
    "    print(True)"
   ]
  },
  {
   "attachments": {},
   "cell_type": "markdown",
   "metadata": {},
   "source": [
    "if-else"
   ]
  },
  {
   "cell_type": "code",
   "execution_count": 61,
   "metadata": {},
   "outputs": [
    {
     "name": "stdout",
     "output_type": "stream",
     "text": [
      "El mayor es 20\n",
      "El mayor es 11\n"
     ]
    }
   ],
   "source": [
    "def obtenerMayorv2(param1, param2):\n",
    "    if param1 < param2:\n",
    "        return param2\n",
    "    else:\n",
    "        return param1\n",
    "\n",
    "print(\"El mayor es {}\".format(obtenerMayorv2(4, 20)))\n",
    "\n",
    "print(\"El mayor es {}\".format(obtenerMayorv2(11, 6)))"
   ]
  },
  {
   "cell_type": "code",
   "execution_count": 63,
   "metadata": {},
   "outputs": [
    {
     "name": "stdout",
     "output_type": "stream",
     "text": [
      "El mayor es 11\n"
     ]
    }
   ],
   "source": [
    "def obtenerMayor_idiom(param1, param2):\n",
    "    #La variable valor va a tener el valor de param2 si el if es verdadero\n",
    "    # de lo contario tendra el valor de param1\n",
    "    valor = param2 if (param1 < param2) else param1\n",
    "    return valor\n",
    "\n",
    "print(\"El mayor es {}\". format(obtenerMayor_idiom(11, 6))) "
   ]
  },
  {
   "attachments": {},
   "cell_type": "markdown",
   "metadata": {},
   "source": [
    "if-elif-else"
   ]
  },
  {
   "cell_type": "code",
   "execution_count": 65,
   "metadata": {},
   "outputs": [
    {
     "name": "stdout",
     "output_type": "stream",
     "text": [
      "el numero es 2\n",
      "no hay opcion\n"
     ]
    }
   ],
   "source": [
    "def numeros(num):\n",
    "    if num== 1:\n",
    "     print(\"el numero es 1\")\n",
    "    elif num == 2:\n",
    "        print(\"el numero es 2\")\n",
    "    elif num == 3:\n",
    "        print(\"el numero es 3\")\n",
    "    elif num == 4:\n",
    "        print(\"el numero es 4\")\n",
    "    else:\n",
    "        print(\"no hay opcion\")\n",
    "\n",
    "numeros(2)\n",
    "\n",
    "numeros(5)"
   ]
  },
  {
   "cell_type": "code",
   "execution_count": 74,
   "metadata": {},
   "outputs": [
    {
     "name": "stdout",
     "output_type": "stream",
     "text": [
      "tu numero es 2\n",
      "5 no es una opcion\n"
     ]
    }
   ],
   "source": [
    "def numeros_idiom(num):\n",
    "    if num in (1,2,3,4):\n",
    "        print(\"tu numero es {}\".format(num))\n",
    "    else:\n",
    "        print(\"{} no es una opcion\".format(num))\n",
    "\n",
    "numeros_idiom(2)\n",
    "\n",
    "numeros_idiom(5)"
   ]
  },
  {
   "cell_type": "code",
   "execution_count": 76,
   "metadata": {},
   "outputs": [
    {
     "name": "stdout",
     "output_type": "stream",
     "text": [
      "El mas grande es 13\n"
     ]
    }
   ],
   "source": [
    "def obtenerMasGrande(a, b, c):\n",
    "    if a > b:\n",
    "        if a > c:\n",
    "            return a\n",
    "        else:\n",
    "            return c\n",
    "    else:\n",
    "        if b > c:\n",
    "            return b\n",
    "        else:\n",
    "            return c\n",
    "\n",
    "print(\"El mas grande es {}\".format(obtenerMasGrande(7, 13, 1)))"
   ]
  },
  {
   "attachments": {},
   "cell_type": "markdown",
   "metadata": {},
   "source": [
    "### **Estructuras de control repetitivas**\n",
    "\n",
    "*Ejemplos*\n",
    "\n",
    "Ciclo while"
   ]
  },
  {
   "cell_type": "code",
   "execution_count": 77,
   "metadata": {},
   "outputs": [
    {
     "name": "stdout",
     "output_type": "stream",
     "text": [
      "10\n",
      "9\n",
      "8\n",
      "7\n",
      "6\n",
      "5\n",
      "4\n",
      "3\n",
      "2\n",
      "1\n"
     ]
    }
   ],
   "source": [
    "#Ejemplo 1\n",
    "def cuenta(limite):\n",
    "    i  = limite\n",
    "    while True:\n",
    "        print(i)\n",
    "        i = i-1\n",
    "        if i == 0:\n",
    "            break \n",
    "\n",
    "cuenta(10)"
   ]
  },
  {
   "cell_type": "code",
   "execution_count": 100,
   "metadata": {},
   "outputs": [
    {
     "name": "stdout",
     "output_type": "stream",
     "text": [
      "24\n",
      "720\n"
     ]
    }
   ],
   "source": [
    "#Ejemplo 2\n",
    "def factorial(n):\n",
    "    i = 1\n",
    "    tnp = 1\n",
    "    while i < n+1:\n",
    "        tnp = tnp * i\n",
    "        i = i + 1\n",
    "    return tnp\n",
    "\n",
    "print(factorial(4))\n",
    "print(factorial(6))\n"
   ]
  },
  {
   "attachments": {},
   "cell_type": "markdown",
   "metadata": {},
   "source": [
    "Ciclo for\n",
    "\n",
    "**Iteración en listas**"
   ]
  },
  {
   "cell_type": "code",
   "execution_count": 102,
   "metadata": {},
   "outputs": [
    {
     "name": "stdout",
     "output_type": "stream",
     "text": [
      "1\n",
      "2\n",
      "3\n",
      "4\n",
      "5\n"
     ]
    }
   ],
   "source": [
    "for x in (1, 2, 3, 4, 5):\n",
    "    print(x)"
   ]
  },
  {
   "cell_type": "code",
   "execution_count": 104,
   "metadata": {},
   "outputs": [
    {
     "name": "stdout",
     "output_type": "stream",
     "text": [
      "0\n",
      "1\n",
      "2\n",
      "3\n",
      "4\n"
     ]
    }
   ],
   "source": [
    "#La funcion range() sirve para generar una lista\n",
    "for x in range(5):\n",
    "    print(x)"
   ]
  },
  {
   "cell_type": "code",
   "execution_count": 106,
   "metadata": {},
   "outputs": [
    {
     "name": "stdout",
     "output_type": "stream",
     "text": [
      "-5\n",
      "-4\n",
      "-3\n",
      "-2\n",
      "-1\n",
      "0\n",
      "1\n"
     ]
    }
   ],
   "source": [
    "for x in range(-5, 2):\n",
    "    print(x)"
   ]
  },
  {
   "cell_type": "code",
   "execution_count": 107,
   "metadata": {},
   "outputs": [
    {
     "name": "stdout",
     "output_type": "stream",
     "text": [
      "uno\n",
      "dos\n",
      "tres\n",
      "cuatro\n"
     ]
    }
   ],
   "source": [
    "for num in (\"uno\", \"dos\", \"tres\", \"cuatro\"):\n",
    "    print(num)"
   ]
  },
  {
   "attachments": {},
   "cell_type": "markdown",
   "metadata": {},
   "source": [
    "**Iteración en diccionarios**"
   ]
  },
  {
   "cell_type": "code",
   "execution_count": 121,
   "metadata": {},
   "outputs": [
    {
     "name": "stdout",
     "output_type": "stream",
     "text": [
      "hidrogeno  =  1\n",
      "helio  =  2\n",
      "carbon  =  6\n"
     ]
    }
   ],
   "source": [
    "#Creando un diccionario\n",
    "elementos = {'hidrogeno': 1, 'helio': 2, 'carbon': 6}\n",
    "\n",
    "for llave, valor in elementos.items():\n",
    "    print(llave, ' = ', valor)\n",
    "    "
   ]
  },
  {
   "cell_type": "code",
   "execution_count": 120,
   "metadata": {},
   "outputs": [
    {
     "name": "stdout",
     "output_type": "stream",
     "text": [
      "hidrogeno\n",
      "helio\n",
      "carbon\n"
     ]
    }
   ],
   "source": [
    "for llave in elementos.keys():\n",
    "    print(llave)"
   ]
  },
  {
   "cell_type": "code",
   "execution_count": 123,
   "metadata": {},
   "outputs": [
    {
     "name": "stdout",
     "output_type": "stream",
     "text": [
      "1\n",
      "2\n",
      "6\n"
     ]
    }
   ],
   "source": [
    "for valor in elementos.values():\n",
    "    print(valor)"
   ]
  },
  {
   "cell_type": "code",
   "execution_count": 124,
   "metadata": {},
   "outputs": [
    {
     "name": "stdout",
     "output_type": "stream",
     "text": [
      "El indice es: 0 y ek elemento: hidrogeno\n",
      "El indice es: 1 y ek elemento: helio\n",
      "El indice es: 2 y ek elemento: carbon\n"
     ]
    }
   ],
   "source": [
    "for idx, x in enumerate(elementos):\n",
    "    print(\"El indice es: {} y ek elemento: {}\".format(idx, x))"
   ]
  },
  {
   "cell_type": "code",
   "execution_count": 127,
   "metadata": {},
   "outputs": [
    {
     "name": "stdout",
     "output_type": "stream",
     "text": [
      "5\n",
      "4\n",
      "3\n",
      "2\n",
      "1\n",
      "Cuenta finalizada\n"
     ]
    }
   ],
   "source": [
    "def cuenta_idiom(limite):\n",
    "    for i in range(limite, 0, -1):\n",
    "        print(i)\n",
    "    else:\n",
    "        print(\"Cuenta finalizada\")\n",
    "\n",
    "cuenta_idiom(5)"
   ]
  },
  {
   "cell_type": "code",
   "execution_count": 130,
   "metadata": {},
   "outputs": [
    {
     "name": "stdout",
     "output_type": "stream",
     "text": [
      "5\n",
      "4\n",
      "3\n"
     ]
    }
   ],
   "source": [
    "def cuenta_idiomv2(limite):\n",
    "    for i in range(limite, 0, -1):\n",
    "        print(i)\n",
    "        if i == 3:\n",
    "            break\n",
    "    else:\n",
    "        print(\"Cuenta finalizada\")\n",
    "\n",
    "cuenta_idiomv2(5)"
   ]
  },
  {
   "attachments": {},
   "cell_type": "markdown",
   "metadata": {},
   "source": [
    "### **Bibliotecas**\n",
    "\n",
    "*Ejemplos*"
   ]
  },
  {
   "cell_type": "code",
   "execution_count": 131,
   "metadata": {},
   "outputs": [
    {
     "name": "stdout",
     "output_type": "stream",
     "text": [
      "-1.0\n"
     ]
    }
   ],
   "source": [
    "import math\n",
    "\n",
    "x = math.cos(math.pi)\n",
    "print(x)"
   ]
  },
  {
   "cell_type": "code",
   "execution_count": 132,
   "metadata": {},
   "outputs": [
    {
     "name": "stdout",
     "output_type": "stream",
     "text": [
      "-1.0\n"
     ]
    }
   ],
   "source": [
    "from math import *\n",
    "\n",
    "x = cos(pi)\n",
    "print(x)"
   ]
  },
  {
   "cell_type": "code",
   "execution_count": 133,
   "metadata": {},
   "outputs": [
    {
     "name": "stdout",
     "output_type": "stream",
     "text": [
      "-1.0\n"
     ]
    }
   ],
   "source": [
    "from math import cos, pi\n",
    "\n",
    "x = cos(pi)\n",
    "print(x)"
   ]
  },
  {
   "cell_type": "code",
   "execution_count": 134,
   "metadata": {},
   "outputs": [
    {
     "name": "stdout",
     "output_type": "stream",
     "text": [
      "['__doc__', '__file__', '__loader__', '__name__', '__package__', '__spec__', 'acos', 'acosh', 'asin', 'asinh', 'atan', 'atan2', 'atanh', 'ceil', 'comb', 'copysign', 'cos', 'cosh', 'degrees', 'dist', 'e', 'erf', 'erfc', 'exp', 'expm1', 'fabs', 'factorial', 'floor', 'fmod', 'frexp', 'fsum', 'gamma', 'gcd', 'hypot', 'inf', 'isclose', 'isfinite', 'isinf', 'isnan', 'isqrt', 'ldexp', 'lgamma', 'log', 'log10', 'log1p', 'log2', 'modf', 'nan', 'perm', 'pi', 'pow', 'prod', 'radians', 'remainder', 'sin', 'sinh', 'sqrt', 'tan', 'tanh', 'tau', 'trunc']\n"
     ]
    }
   ],
   "source": [
    "print(dir(math))"
   ]
  },
  {
   "cell_type": "code",
   "execution_count": 135,
   "metadata": {},
   "outputs": [
    {
     "name": "stdout",
     "output_type": "stream",
     "text": [
      "Help on built-in function log in module math:\n",
      "\n",
      "log(...)\n",
      "    log(x, [base=math.e])\n",
      "    Return the logarithm of x to the given base.\n",
      "    \n",
      "    If the base not specified, returns the natural logarithm (base e) of x.\n",
      "\n"
     ]
    }
   ],
   "source": [
    "help(math.log)"
   ]
  },
  {
   "cell_type": "code",
   "execution_count": 136,
   "metadata": {},
   "outputs": [
    {
     "name": "stdout",
     "output_type": "stream",
     "text": [
      "-1.0\n"
     ]
    }
   ],
   "source": [
    "import math as ma\n",
    "\n",
    "x = ma.cos(ma.pi)\n",
    "print(x)"
   ]
  },
  {
   "attachments": {},
   "cell_type": "markdown",
   "metadata": {},
   "source": [
    "### **Graficación**\n",
    "\n",
    "*Ejemplos*"
   ]
  },
  {
   "cell_type": "code",
   "execution_count": 138,
   "metadata": {},
   "outputs": [
    {
     "ename": "ModuleNotFoundError",
     "evalue": "No module named 'matplotlib'",
     "output_type": "error",
     "traceback": [
      "\u001b[0;31m---------------------------------------------------------------------------\u001b[0m",
      "\u001b[0;31mModuleNotFoundError\u001b[0m                       Traceback (most recent call last)",
      "Cell \u001b[0;32mIn[138], line 1\u001b[0m\n\u001b[0;32m----> 1\u001b[0m get_ipython()\u001b[39m.\u001b[39;49mrun_line_magic(\u001b[39m'\u001b[39;49m\u001b[39mpylab\u001b[39;49m\u001b[39m'\u001b[39;49m, \u001b[39m'\u001b[39;49m\u001b[39minline\u001b[39;49m\u001b[39m'\u001b[39;49m)\n\u001b[1;32m      3\u001b[0m \u001b[39mimport\u001b[39;00m \u001b[39mmatplotlib\u001b[39;00m\u001b[39m.\u001b[39;00m\u001b[39mpyplot\u001b[39;00m \u001b[39mas\u001b[39;00m \u001b[39mplt\u001b[39;00m \n\u001b[1;32m      4\u001b[0m \u001b[39mfrom\u001b[39;00m \u001b[39mmpl_toolkits\u001b[39;00m\u001b[39m.\u001b[39;00m\u001b[39mmplot3d\u001b[39;00m \u001b[39mimport\u001b[39;00m Axes3D\n",
      "File \u001b[0;32m~/.pyenv/versions/3.8.16/lib/python3.8/site-packages/IPython/core/interactiveshell.py:2369\u001b[0m, in \u001b[0;36mInteractiveShell.run_line_magic\u001b[0;34m(self, magic_name, line, _stack_depth)\u001b[0m\n\u001b[1;32m   2367\u001b[0m     kwargs[\u001b[39m'\u001b[39m\u001b[39mlocal_ns\u001b[39m\u001b[39m'\u001b[39m] \u001b[39m=\u001b[39m \u001b[39mself\u001b[39m\u001b[39m.\u001b[39mget_local_scope(stack_depth)\n\u001b[1;32m   2368\u001b[0m \u001b[39mwith\u001b[39;00m \u001b[39mself\u001b[39m\u001b[39m.\u001b[39mbuiltin_trap:\n\u001b[0;32m-> 2369\u001b[0m     result \u001b[39m=\u001b[39m fn(\u001b[39m*\u001b[39;49margs, \u001b[39m*\u001b[39;49m\u001b[39m*\u001b[39;49mkwargs)\n\u001b[1;32m   2370\u001b[0m \u001b[39mreturn\u001b[39;00m result\n",
      "File \u001b[0;32m~/.pyenv/versions/3.8.16/lib/python3.8/site-packages/IPython/core/magics/pylab.py:155\u001b[0m, in \u001b[0;36mPylabMagics.pylab\u001b[0;34m(self, line)\u001b[0m\n\u001b[1;32m    151\u001b[0m \u001b[39melse\u001b[39;00m:\n\u001b[1;32m    152\u001b[0m     \u001b[39m# invert no-import flag\u001b[39;00m\n\u001b[1;32m    153\u001b[0m     import_all \u001b[39m=\u001b[39m \u001b[39mnot\u001b[39;00m args\u001b[39m.\u001b[39mno_import_all\n\u001b[0;32m--> 155\u001b[0m gui, backend, clobbered \u001b[39m=\u001b[39m \u001b[39mself\u001b[39;49m\u001b[39m.\u001b[39;49mshell\u001b[39m.\u001b[39;49menable_pylab(args\u001b[39m.\u001b[39;49mgui, import_all\u001b[39m=\u001b[39;49mimport_all)\n\u001b[1;32m    156\u001b[0m \u001b[39mself\u001b[39m\u001b[39m.\u001b[39m_show_matplotlib_backend(args\u001b[39m.\u001b[39mgui, backend)\n\u001b[1;32m    157\u001b[0m \u001b[39mprint\u001b[39m(\n\u001b[1;32m    158\u001b[0m     \u001b[39m\"\u001b[39m\u001b[39m%\u001b[39m\u001b[39mpylab is deprecated, use \u001b[39m\u001b[39m%\u001b[39m\u001b[39mmatplotlib inline and import the required libraries.\u001b[39m\u001b[39m\"\u001b[39m\n\u001b[1;32m    159\u001b[0m )\n",
      "File \u001b[0;32m~/.pyenv/versions/3.8.16/lib/python3.8/site-packages/IPython/core/interactiveshell.py:3576\u001b[0m, in \u001b[0;36mInteractiveShell.enable_pylab\u001b[0;34m(self, gui, import_all, welcome_message)\u001b[0m\n\u001b[1;32m   3549\u001b[0m \u001b[39m\u001b[39m\u001b[39m\"\"\"Activate pylab support at runtime.\u001b[39;00m\n\u001b[1;32m   3550\u001b[0m \n\u001b[1;32m   3551\u001b[0m \u001b[39mThis turns on support for matplotlib, preloads into the interactive\u001b[39;00m\n\u001b[0;32m   (...)\u001b[0m\n\u001b[1;32m   3572\u001b[0m \u001b[39m    This argument is ignored, no welcome message will be displayed.\u001b[39;00m\n\u001b[1;32m   3573\u001b[0m \u001b[39m\"\"\"\u001b[39;00m\n\u001b[1;32m   3574\u001b[0m \u001b[39mfrom\u001b[39;00m \u001b[39mIPython\u001b[39;00m\u001b[39m.\u001b[39;00m\u001b[39mcore\u001b[39;00m\u001b[39m.\u001b[39;00m\u001b[39mpylabtools\u001b[39;00m \u001b[39mimport\u001b[39;00m import_pylab\n\u001b[0;32m-> 3576\u001b[0m gui, backend \u001b[39m=\u001b[39m \u001b[39mself\u001b[39;49m\u001b[39m.\u001b[39;49menable_matplotlib(gui)\n\u001b[1;32m   3578\u001b[0m \u001b[39m# We want to prevent the loading of pylab to pollute the user's\u001b[39;00m\n\u001b[1;32m   3579\u001b[0m \u001b[39m# namespace as shown by the %who* magics, so we execute the activation\u001b[39;00m\n\u001b[1;32m   3580\u001b[0m \u001b[39m# code in an empty namespace, and we update *both* user_ns and\u001b[39;00m\n\u001b[1;32m   3581\u001b[0m \u001b[39m# user_ns_hidden with this information.\u001b[39;00m\n\u001b[1;32m   3582\u001b[0m ns \u001b[39m=\u001b[39m {}\n",
      "File \u001b[0;32m~/.pyenv/versions/3.8.16/lib/python3.8/site-packages/IPython/core/interactiveshell.py:3522\u001b[0m, in \u001b[0;36mInteractiveShell.enable_matplotlib\u001b[0;34m(self, gui)\u001b[0m\n\u001b[1;32m   3501\u001b[0m \u001b[39mdef\u001b[39;00m \u001b[39menable_matplotlib\u001b[39m(\u001b[39mself\u001b[39m, gui\u001b[39m=\u001b[39m\u001b[39mNone\u001b[39;00m):\n\u001b[1;32m   3502\u001b[0m \u001b[39m    \u001b[39m\u001b[39m\"\"\"Enable interactive matplotlib and inline figure support.\u001b[39;00m\n\u001b[1;32m   3503\u001b[0m \n\u001b[1;32m   3504\u001b[0m \u001b[39m    This takes the following steps:\u001b[39;00m\n\u001b[0;32m   (...)\u001b[0m\n\u001b[1;32m   3520\u001b[0m \u001b[39m        display figures inline.\u001b[39;00m\n\u001b[1;32m   3521\u001b[0m \u001b[39m    \"\"\"\u001b[39;00m\n\u001b[0;32m-> 3522\u001b[0m     \u001b[39mfrom\u001b[39;00m \u001b[39mmatplotlib_inline\u001b[39;00m\u001b[39m.\u001b[39;00m\u001b[39mbackend_inline\u001b[39;00m \u001b[39mimport\u001b[39;00m configure_inline_support\n\u001b[1;32m   3524\u001b[0m     \u001b[39mfrom\u001b[39;00m \u001b[39mIPython\u001b[39;00m\u001b[39m.\u001b[39;00m\u001b[39mcore\u001b[39;00m \u001b[39mimport\u001b[39;00m pylabtools \u001b[39mas\u001b[39;00m pt\n\u001b[1;32m   3525\u001b[0m     gui, backend \u001b[39m=\u001b[39m pt\u001b[39m.\u001b[39mfind_gui_and_backend(gui, \u001b[39mself\u001b[39m\u001b[39m.\u001b[39mpylab_gui_select)\n",
      "File \u001b[0;32m~/.pyenv/versions/3.8.16/lib/python3.8/site-packages/matplotlib_inline/__init__.py:1\u001b[0m\n\u001b[0;32m----> 1\u001b[0m \u001b[39mfrom\u001b[39;00m \u001b[39m.\u001b[39;00m \u001b[39mimport\u001b[39;00m backend_inline, config  \u001b[39m# noqa\u001b[39;00m\n\u001b[1;32m      2\u001b[0m __version__ \u001b[39m=\u001b[39m \u001b[39m\"\u001b[39m\u001b[39m0.1.6\u001b[39m\u001b[39m\"\u001b[39m  \u001b[39m# noqa\u001b[39;00m\n",
      "File \u001b[0;32m~/.pyenv/versions/3.8.16/lib/python3.8/site-packages/matplotlib_inline/backend_inline.py:6\u001b[0m\n\u001b[1;32m      1\u001b[0m \u001b[39m\"\"\"A matplotlib backend for publishing figures via display_data\"\"\"\u001b[39;00m\n\u001b[1;32m      3\u001b[0m \u001b[39m# Copyright (c) IPython Development Team.\u001b[39;00m\n\u001b[1;32m      4\u001b[0m \u001b[39m# Distributed under the terms of the BSD 3-Clause License.\u001b[39;00m\n\u001b[0;32m----> 6\u001b[0m \u001b[39mimport\u001b[39;00m \u001b[39mmatplotlib\u001b[39;00m\n\u001b[1;32m      7\u001b[0m \u001b[39mfrom\u001b[39;00m \u001b[39mmatplotlib\u001b[39;00m \u001b[39mimport\u001b[39;00m colors\n\u001b[1;32m      8\u001b[0m \u001b[39mfrom\u001b[39;00m \u001b[39mmatplotlib\u001b[39;00m\u001b[39m.\u001b[39;00m\u001b[39mbackends\u001b[39;00m \u001b[39mimport\u001b[39;00m backend_agg\n",
      "\u001b[0;31mModuleNotFoundError\u001b[0m: No module named 'matplotlib'"
     ]
    }
   ],
   "source": [
    "%pylab inline\n",
    "\n",
    "import matplotlib.pyplot as plt \n",
    "from mpl_toolkits.mplot3d import Axes3D\n",
    "\n",
    "n = linspace(0, 3, 20)\n",
    "\n",
    "fig, ax = plt.subplots(facecolor='w', edgecolor='r')\n",
    "ax.plot(x, sin(x), marker=\"o\", color= \"r\", linestyle='None')\n",
    "\n",
    "ax.grid(True)\n",
    "ax.set_xlabel('x')\n",
    "ax.set_ylabel('y')\n",
    "ax.grid(True)\n",
    "ax.legend([\"y - x**2\"])\n",
    "\n",
    "plt.title('Puntos')\n",
    "plt.show()\n",
    "\n",
    "fig.savefig(\"grafica.png\")"
   ]
  }
 ],
 "metadata": {
  "kernelspec": {
   "display_name": "Python 3",
   "language": "python",
   "name": "python3"
  },
  "language_info": {
   "codemirror_mode": {
    "name": "ipython",
    "version": 3
   },
   "file_extension": ".py",
   "mimetype": "text/x-python",
   "name": "python",
   "nbconvert_exporter": "python",
   "pygments_lexer": "ipython3",
   "version": "3.8.16"
  },
  "orig_nbformat": 4
 },
 "nbformat": 4,
 "nbformat_minor": 2
}
